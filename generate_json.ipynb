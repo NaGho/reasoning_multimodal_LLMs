{
 "cells": [
  {
   "cell_type": "code",
   "execution_count": null,
   "metadata": {},
   "outputs": [],
   "source": [
    "from datasets import load_dataset\n",
    "import json\n",
    "from tqdm import tqdm \n",
    "\n",
    "def convert_mathvision_to_json(split):\n",
    "    ds = load_dataset(\"MathLLMs/MathVision\")\n",
    "    \n",
    "    converted_data = []\n",
    "    for item in tqdm(ds[split]):\n",
    "        # Basic structure for conversation\n",
    "        # system_promt = f\"Answer the following questions about the image. \\n Question: {item.get('question')} Detail your reasoning step by step and write the final answer as one number or one letter at the end after printing <Answer:>\"\n",
    "        # if len(item['options']) > 0:\n",
    "        #     system_promt += f\"\\n The answer is one of {', '.join(item['options'])}. \"\n",
    "        conversation_entry = {\n",
    "            \"system_prompt\": \"Answer the following question given the image.\",\n",
    "            \"image\": item.get(\"image\"),\n",
    "            \"conversations\": [\n",
    "                {\n",
    "                    \"from\": \"human\",\n",
    "                    \"value\": f\"<image>{item.get('question', 'Describe this image.')}\"\n",
    "                },\n",
    "                {\n",
    "                    \"from\": \"gpt\",\n",
    "                    \"value\": item.get('answer', 'No description available.')\n",
    "                }\n",
    "            ]\n",
    "        }\n",
    "        \n",
    "        converted_data.append(conversation_entry)\n",
    "    \n",
    "    return converted_data\n",
    "\n",
    "# # Convert test split\n",
    "# test_json = convert_mathvision_to_json('test')\n",
    "# with open(\"/content/drive/MyDrive/reasoning_multimodal_LLMs/example_data/MATHV_test_images.json\", 'w') as f:\n",
    "#     json.dump(test_json, f, indent=2)\n",
    "# print(f\"Converted {len(test_json)} entries for test split\")\n",
    "\n",
    "# Convert testmini split\n",
    "testmini_json = convert_mathvision_to_json('testmini')\n",
    "with open(\"/content/drive/MyDrive/reasoning_multimodal_LLMs/example_data/MATHV_testmini_images.json\", 'w') as f:\n",
    "    json.dump(testmini_json, f, indent=2)\n",
    "\n",
    "print(f\"Converted {len(testmini_json)} entries for testmini split\")"
   ]
  }
 ],
 "metadata": {
  "language_info": {
   "name": "python"
  },
  "orig_nbformat": 4
 },
 "nbformat": 4,
 "nbformat_minor": 2
}
