{
 "cells": [
  {
   "cell_type": "code",
   "execution_count": null,
   "metadata": {},
   "outputs": [],
   "source": [
    "from datasets import load_dataset\n",
    "import json\n",
    "from tqdm import tqdm \n",
    "\n",
    "def convert_mathvision_to_json(split):\n",
    "    ds = load_dataset(\"MathLLMs/MathVision\")\n",
    "    \n",
    "    converted_data = []\n",
    "    for item in tqdm(ds[split]):\n",
    "        question_prompt = item['question']\n",
    "        if item.get('options') and len(item['options'])>0:\n",
    "            question_prompt += f\"The answer is one of the options {', '.join(item['options'])}\"\n",
    "        conversation_entry = {\n",
    "            \"system_prompt\": \"Solve the following math problem step by step, given the image attached. Write the final answer after <Answer:>\",\n",
    "            \"image\": item.get(\"image\"),\n",
    "            \"conversations\": [\n",
    "                {\n",
    "                    \"from\": \"human\",\n",
    "                    \"value\": f\"<image>{question_prompt}\"\n",
    "                },\n",
    "                {\n",
    "                    \"from\": \"gpt\",\n",
    "                    \"value\": item.get('answer', 'No answer available.')\n",
    "                }\n",
    "            ]\n",
    "        }\n",
    "        \n",
    "\n",
    "        converted_data.append(conversation_entry)\n",
    "    \n",
    "    return converted_data\n",
    "\n",
    "# Convert test split\n",
    "test_json = convert_mathvision_to_json('test')\n",
    "with open(\"/content/drive/MyDrive/reasoning_multimodal_LLMs/example_data/MATHV_test_images.json\", 'w') as f:\n",
    "    json.dump(test_json, f, indent=2)\n",
    "print(f\"Converted {len(test_json)} entries for test split\")\n",
    "\n",
    "# Convert testmini split\n",
    "testmini_json = convert_mathvision_to_json('testmini')\n",
    "with open(\"/content/drive/MyDrive/reasoning_multimodal_LLMs/example_data/MATHV_testmini_images.json\", 'w') as f:\n",
    "    json.dump(testmini_json, f, indent=2)\n",
    "print(f\"Converted {len(testmini_json)} entries for testmini split\")"
   ]
  }
 ],
 "metadata": {
  "language_info": {
   "name": "python"
  },
  "orig_nbformat": 4
 },
 "nbformat": 4,
 "nbformat_minor": 2
}
